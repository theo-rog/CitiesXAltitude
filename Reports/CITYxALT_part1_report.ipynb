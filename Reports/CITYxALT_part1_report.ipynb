{
 "cells": [
  {
   "cell_type": "markdown",
   "id": "4c557ba7",
   "metadata": {},
   "source": [
    "# Part 1: Matching Datasets\n",
    "\n",
    "## Project intro / part 1 intro\n",
    "\n",
    "This project focusses on altitude vs population... *\n",
    "\n",
    "The primary dataset used is... which does not contain elevation, the elevation is extracted from a secondary dataset... . The two datasets to not share the same unique identifier for each town - it is necessary to join based on the town name and country. This doesn't provide a unique match for each town, so the population and latitude/longitude are used to identify matches. Part 1 of this project aims to merge the 2 datasets.\n",
    "\n",
    "## Data Sources\n",
    "    - description\n",
    "        - context (i.e. date)\n",
    "        - important columns\n",
    "\n",
    "\n",
    "\n",
    "## Matching Process\n",
    "    - mexican town of (?)\n",
    "        CODE HERE\n",
    "    - match based on name, country, location and population\n",
    "    - population/location comparison\n",
    "    - \n",
    "\n",
    "## Sample\n",
    "    - method/choice\n",
    "        CODE HERE\n",
    "        - known cities vs springfields\n",
    "        - 20 springfields, 11 matches\n",
    "    - results\n",
    "\n",
    "applied results/conclusion"
   ]
  },
  {
   "cell_type": "code",
   "execution_count": null,
   "id": "14dd4e9f",
   "metadata": {},
   "outputs": [],
   "source": []
  }
 ],
 "metadata": {
  "language_info": {
   "name": "python"
  }
 },
 "nbformat": 4,
 "nbformat_minor": 5
}
